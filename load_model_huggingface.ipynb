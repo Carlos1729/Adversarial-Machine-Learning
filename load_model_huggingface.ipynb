{
  "cells": [
    {
      "cell_type": "markdown",
      "metadata": {
        "id": "rruApre_Fhgv"
      },
      "source": [
        "# Models (PyTorch)"
      ]
    },
    {
      "cell_type": "markdown",
      "metadata": {
        "id": "DxjcdxcOFhgw"
      },
      "source": [
        "Install the Transformers, Datasets, and Evaluate libraries to run this notebook."
      ]
    },
    {
      "cell_type": "markdown",
      "source": [
        "The AutoModel class and all of its relatives are actually simple wrappers over the wide variety of models available in the library. It’s a clever wrapper as it can automatically guess the appropriate model architecture for your checkpoint, and then instantiates a model with this architecture.\n",
        "\n",
        "However, **if you know the type of model you want to use, you can use the class that defines its architecture directly**. Let’s take a look at how this works with a BERT model."
      ],
      "metadata": {
        "id": "OI9QRmzlGkfW"
      }
    },
    {
      "cell_type": "code",
      "execution_count": 1,
      "metadata": {
        "id": "RXRZU3IMFhgx",
        "outputId": "eeae660b-340c-4c7c-9590-c883eddbd840",
        "colab": {
          "base_uri": "https://localhost:8080/"
        }
      },
      "outputs": [
        {
          "output_type": "stream",
          "name": "stdout",
          "text": [
            "Collecting datasets\n",
            "  Downloading datasets-2.15.0-py3-none-any.whl (521 kB)\n",
            "\u001b[2K     \u001b[90m━━━━━━━━━━━━━━━━━━━━━━━━━━━━━━━━━━━━━━━━\u001b[0m \u001b[32m521.2/521.2 kB\u001b[0m \u001b[31m3.6 MB/s\u001b[0m eta \u001b[36m0:00:00\u001b[0m\n",
            "\u001b[?25hCollecting evaluate\n",
            "  Downloading evaluate-0.4.1-py3-none-any.whl (84 kB)\n",
            "\u001b[2K     \u001b[90m━━━━━━━━━━━━━━━━━━━━━━━━━━━━━━━━━━━━━━━━\u001b[0m \u001b[32m84.1/84.1 kB\u001b[0m \u001b[31m12.0 MB/s\u001b[0m eta \u001b[36m0:00:00\u001b[0m\n",
            "\u001b[?25hRequirement already satisfied: transformers[sentencepiece] in /usr/local/lib/python3.10/dist-packages (4.35.2)\n",
            "Requirement already satisfied: numpy>=1.17 in /usr/local/lib/python3.10/dist-packages (from datasets) (1.23.5)\n",
            "Requirement already satisfied: pyarrow>=8.0.0 in /usr/local/lib/python3.10/dist-packages (from datasets) (9.0.0)\n",
            "Collecting pyarrow-hotfix (from datasets)\n",
            "  Downloading pyarrow_hotfix-0.6-py3-none-any.whl (7.9 kB)\n",
            "Collecting dill<0.3.8,>=0.3.0 (from datasets)\n",
            "  Downloading dill-0.3.7-py3-none-any.whl (115 kB)\n",
            "\u001b[2K     \u001b[90m━━━━━━━━━━━━━━━━━━━━━━━━━━━━━━━━━━━━━━━━\u001b[0m \u001b[32m115.3/115.3 kB\u001b[0m \u001b[31m14.7 MB/s\u001b[0m eta \u001b[36m0:00:00\u001b[0m\n",
            "\u001b[?25hRequirement already satisfied: pandas in /usr/local/lib/python3.10/dist-packages (from datasets) (1.5.3)\n",
            "Requirement already satisfied: requests>=2.19.0 in /usr/local/lib/python3.10/dist-packages (from datasets) (2.31.0)\n",
            "Requirement already satisfied: tqdm>=4.62.1 in /usr/local/lib/python3.10/dist-packages (from datasets) (4.66.1)\n",
            "Requirement already satisfied: xxhash in /usr/local/lib/python3.10/dist-packages (from datasets) (3.4.1)\n",
            "Collecting multiprocess (from datasets)\n",
            "  Downloading multiprocess-0.70.15-py310-none-any.whl (134 kB)\n",
            "\u001b[2K     \u001b[90m━━━━━━━━━━━━━━━━━━━━━━━━━━━━━━━━━━━━━━━━\u001b[0m \u001b[32m134.8/134.8 kB\u001b[0m \u001b[31m18.5 MB/s\u001b[0m eta \u001b[36m0:00:00\u001b[0m\n",
            "\u001b[?25hRequirement already satisfied: fsspec[http]<=2023.10.0,>=2023.1.0 in /usr/local/lib/python3.10/dist-packages (from datasets) (2023.6.0)\n",
            "Requirement already satisfied: aiohttp in /usr/local/lib/python3.10/dist-packages (from datasets) (3.9.1)\n",
            "Requirement already satisfied: huggingface-hub>=0.18.0 in /usr/local/lib/python3.10/dist-packages (from datasets) (0.19.4)\n",
            "Requirement already satisfied: packaging in /usr/local/lib/python3.10/dist-packages (from datasets) (23.2)\n",
            "Requirement already satisfied: pyyaml>=5.1 in /usr/local/lib/python3.10/dist-packages (from datasets) (6.0.1)\n",
            "Collecting responses<0.19 (from evaluate)\n",
            "  Downloading responses-0.18.0-py3-none-any.whl (38 kB)\n",
            "Requirement already satisfied: filelock in /usr/local/lib/python3.10/dist-packages (from transformers[sentencepiece]) (3.13.1)\n",
            "Requirement already satisfied: regex!=2019.12.17 in /usr/local/lib/python3.10/dist-packages (from transformers[sentencepiece]) (2023.6.3)\n",
            "Requirement already satisfied: tokenizers<0.19,>=0.14 in /usr/local/lib/python3.10/dist-packages (from transformers[sentencepiece]) (0.15.0)\n",
            "Requirement already satisfied: safetensors>=0.3.1 in /usr/local/lib/python3.10/dist-packages (from transformers[sentencepiece]) (0.4.1)\n",
            "Collecting sentencepiece!=0.1.92,>=0.1.91 (from transformers[sentencepiece])\n",
            "  Downloading sentencepiece-0.1.99-cp310-cp310-manylinux_2_17_x86_64.manylinux2014_x86_64.whl (1.3 MB)\n",
            "\u001b[2K     \u001b[90m━━━━━━━━━━━━━━━━━━━━━━━━━━━━━━━━━━━━━━━━\u001b[0m \u001b[32m1.3/1.3 MB\u001b[0m \u001b[31m24.6 MB/s\u001b[0m eta \u001b[36m0:00:00\u001b[0m\n",
            "\u001b[?25hRequirement already satisfied: protobuf in /usr/local/lib/python3.10/dist-packages (from transformers[sentencepiece]) (3.20.3)\n",
            "Requirement already satisfied: attrs>=17.3.0 in /usr/local/lib/python3.10/dist-packages (from aiohttp->datasets) (23.1.0)\n",
            "Requirement already satisfied: multidict<7.0,>=4.5 in /usr/local/lib/python3.10/dist-packages (from aiohttp->datasets) (6.0.4)\n",
            "Requirement already satisfied: yarl<2.0,>=1.0 in /usr/local/lib/python3.10/dist-packages (from aiohttp->datasets) (1.9.3)\n",
            "Requirement already satisfied: frozenlist>=1.1.1 in /usr/local/lib/python3.10/dist-packages (from aiohttp->datasets) (1.4.0)\n",
            "Requirement already satisfied: aiosignal>=1.1.2 in /usr/local/lib/python3.10/dist-packages (from aiohttp->datasets) (1.3.1)\n",
            "Requirement already satisfied: async-timeout<5.0,>=4.0 in /usr/local/lib/python3.10/dist-packages (from aiohttp->datasets) (4.0.3)\n",
            "Requirement already satisfied: typing-extensions>=3.7.4.3 in /usr/local/lib/python3.10/dist-packages (from huggingface-hub>=0.18.0->datasets) (4.5.0)\n",
            "Requirement already satisfied: charset-normalizer<4,>=2 in /usr/local/lib/python3.10/dist-packages (from requests>=2.19.0->datasets) (3.3.2)\n",
            "Requirement already satisfied: idna<4,>=2.5 in /usr/local/lib/python3.10/dist-packages (from requests>=2.19.0->datasets) (3.6)\n",
            "Requirement already satisfied: urllib3<3,>=1.21.1 in /usr/local/lib/python3.10/dist-packages (from requests>=2.19.0->datasets) (2.0.7)\n",
            "Requirement already satisfied: certifi>=2017.4.17 in /usr/local/lib/python3.10/dist-packages (from requests>=2.19.0->datasets) (2023.11.17)\n",
            "Requirement already satisfied: python-dateutil>=2.8.1 in /usr/local/lib/python3.10/dist-packages (from pandas->datasets) (2.8.2)\n",
            "Requirement already satisfied: pytz>=2020.1 in /usr/local/lib/python3.10/dist-packages (from pandas->datasets) (2023.3.post1)\n",
            "Requirement already satisfied: six>=1.5 in /usr/local/lib/python3.10/dist-packages (from python-dateutil>=2.8.1->pandas->datasets) (1.16.0)\n",
            "Installing collected packages: sentencepiece, pyarrow-hotfix, dill, responses, multiprocess, datasets, evaluate\n",
            "Successfully installed datasets-2.15.0 dill-0.3.7 evaluate-0.4.1 multiprocess-0.70.15 pyarrow-hotfix-0.6 responses-0.18.0 sentencepiece-0.1.99\n"
          ]
        }
      ],
      "source": [
        "!pip install datasets evaluate transformers[sentencepiece]"
      ]
    },
    {
      "cell_type": "code",
      "execution_count": 2,
      "metadata": {
        "id": "_DLbOyP3Fhgx"
      },
      "outputs": [],
      "source": [
        "from transformers import BertConfig, BertModel\n",
        "\n",
        "# Building the config\n",
        "config = BertConfig()\n",
        "\n",
        "# Building the model from the config\n",
        "model = BertModel(config)"
      ]
    },
    {
      "cell_type": "markdown",
      "source": [
        "the hidden_size attribute defines the size of the hidden_states vector, and num_hidden_layers defines the number of layers the Transformer model has"
      ],
      "metadata": {
        "id": "VPnCAwrWHLKF"
      }
    },
    {
      "cell_type": "code",
      "execution_count": 3,
      "metadata": {
        "id": "BQFnI6n-Fhgy",
        "outputId": "bfe9d90e-4a2a-4236-bf98-ad5d9b318417",
        "colab": {
          "base_uri": "https://localhost:8080/"
        }
      },
      "outputs": [
        {
          "output_type": "stream",
          "name": "stdout",
          "text": [
            "BertConfig {\n",
            "  \"attention_probs_dropout_prob\": 0.1,\n",
            "  \"classifier_dropout\": null,\n",
            "  \"hidden_act\": \"gelu\",\n",
            "  \"hidden_dropout_prob\": 0.1,\n",
            "  \"hidden_size\": 768,\n",
            "  \"initializer_range\": 0.02,\n",
            "  \"intermediate_size\": 3072,\n",
            "  \"layer_norm_eps\": 1e-12,\n",
            "  \"max_position_embeddings\": 512,\n",
            "  \"model_type\": \"bert\",\n",
            "  \"num_attention_heads\": 12,\n",
            "  \"num_hidden_layers\": 12,\n",
            "  \"pad_token_id\": 0,\n",
            "  \"position_embedding_type\": \"absolute\",\n",
            "  \"transformers_version\": \"4.35.2\",\n",
            "  \"type_vocab_size\": 2,\n",
            "  \"use_cache\": true,\n",
            "  \"vocab_size\": 30522\n",
            "}\n",
            "\n"
          ]
        }
      ],
      "source": [
        "print(config)"
      ]
    },
    {
      "cell_type": "code",
      "execution_count": 4,
      "metadata": {
        "id": "TJk6aK48Fhgy"
      },
      "outputs": [],
      "source": [
        "from transformers import BertConfig, BertModel\n",
        "\n",
        "config = BertConfig()\n",
        "model = BertModel(config)\n",
        "\n",
        "# Model is randomly initialized!"
      ]
    },
    {
      "cell_type": "markdown",
      "source": [
        "Loading a Transformer model that is already trained is simple — we can do this using the from_pretrained() method"
      ],
      "metadata": {
        "id": "6h8uOv0sHszL"
      }
    },
    {
      "cell_type": "markdown",
      "source": [
        "In the code sample above we didn’t use BertConfig, and instead loaded a pretrained model via the **bert-base-cased identifier.** This is a model checkpoint that was trained by the authors of BERT themselves; you can find more details about it in its model card"
      ],
      "metadata": {
        "id": "iqHJehKoH_L2"
      }
    },
    {
      "cell_type": "code",
      "execution_count": 5,
      "metadata": {
        "id": "NLklXY71Fhgy",
        "outputId": "d32a4f4c-d786-44de-af3d-dd19421927f5",
        "colab": {
          "base_uri": "https://localhost:8080/",
          "height": 81,
          "referenced_widgets": [
            "c636f5e9964a4824b9427318f91a54e7",
            "7437c4697d5740ebbe5f49959ff7352f",
            "854a47b5c4c04611b6610ee44734b007",
            "758e071e00e046e48ca147cfa626353d",
            "70fdb2bab4f343e2a5617cc8b60821d4",
            "01c90fcad2fb4de18737c3b5ed996f2c",
            "7bd5d4ada6854d829e5828100aef1a68",
            "14e775f22a6c459889c09b669cd566d8",
            "a6f416033bc447209ac9f54e13057231",
            "48707688dd5f49b0905cceb53ddacf96",
            "043113684e6b41c1901bdabec4c2ca76",
            "f8370932fb9e4554bfc7ef98eba6ca0e",
            "94351772c3774902865f9cdcb5e78167",
            "5e365a0a50f141e39fcc09e749470b9c",
            "dffea41cc9b8447b8cdedfaa9c0b0b8a",
            "ea4be7133cfe4ca3989d1b90f610abc3",
            "843aa32487904071ac2f5e8aefa15f86",
            "c92e932a2864488182332141bebe2de8",
            "86c71cbddd8f4c72a5c109c0779a1410",
            "435add597fd248638a635714d3eb15e2",
            "c6b4b0b50d4540fc8e610919fea825ef",
            "1a51b1fd411d49ba927494cbb9632251"
          ]
        }
      },
      "outputs": [
        {
          "output_type": "display_data",
          "data": {
            "text/plain": [
              "config.json:   0%|          | 0.00/570 [00:00<?, ?B/s]"
            ],
            "application/vnd.jupyter.widget-view+json": {
              "version_major": 2,
              "version_minor": 0,
              "model_id": "c636f5e9964a4824b9427318f91a54e7"
            }
          },
          "metadata": {}
        },
        {
          "output_type": "display_data",
          "data": {
            "text/plain": [
              "model.safetensors:   0%|          | 0.00/436M [00:00<?, ?B/s]"
            ],
            "application/vnd.jupyter.widget-view+json": {
              "version_major": 2,
              "version_minor": 0,
              "model_id": "f8370932fb9e4554bfc7ef98eba6ca0e"
            }
          },
          "metadata": {}
        }
      ],
      "source": [
        "from transformers import BertModel\n",
        "\n",
        "model = BertModel.from_pretrained(\"bert-base-cased\")"
      ]
    },
    {
      "cell_type": "markdown",
      "source": [
        "The weights have been downloaded and cached (so future calls to the from_pretrained() method won’t re-download them) in the cache folder, which defaults to ~/.cache/huggingface/transformers. You can customize your cache folder by setting the HF_HOME environment variable."
      ],
      "metadata": {
        "id": "kujx8NxXIbke"
      }
    },
    {
      "cell_type": "markdown",
      "source": [
        "we use the save_pretrained() method\n",
        "\n",
        "This saves two files to your disk:\n",
        "\n",
        "Copied\n",
        "ls directory_on_my_computer\n",
        "config.json pytorch_model.bin"
      ],
      "metadata": {
        "id": "cex6Nns4I5Kh"
      }
    },
    {
      "cell_type": "code",
      "execution_count": 6,
      "metadata": {
        "id": "K0O7RZr6Fhgz"
      },
      "outputs": [],
      "source": [
        "model.save_pretrained(\"directory_on_my_computer\")"
      ]
    },
    {
      "cell_type": "markdown",
      "source": [
        "![image.png](data:image/png;base64,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)"
      ],
      "metadata": {
        "id": "SA6y064uJow6"
      }
    },
    {
      "cell_type": "markdown",
      "source": [
        "The pytorch_model.bin file is known as the state dictionary; it contains all your model’s weights. The two files go hand in hand; the configuration is necessary to know your model’s architecture, while the model weights are your model’s parameters."
      ],
      "metadata": {
        "id": "eIReLhr1JxPN"
      }
    },
    {
      "cell_type": "code",
      "execution_count": 7,
      "metadata": {
        "id": "FsVXt65vFhgz"
      },
      "outputs": [],
      "source": [
        "sequences = [\"Hello!\", \"Cool.\", \"Nice!\"]"
      ]
    },
    {
      "cell_type": "markdown",
      "source": [
        "The tokenizer converts these to vocabulary indices which are typically called input IDs. Each sequence is now a list of numbers!"
      ],
      "metadata": {
        "id": "0ak_pwj4KEpa"
      }
    },
    {
      "cell_type": "code",
      "execution_count": 8,
      "metadata": {
        "id": "9uftn15pFhgz"
      },
      "outputs": [],
      "source": [
        "encoded_sequences = [\n",
        "    [101, 7592, 999, 102],\n",
        "    [101, 4658, 1012, 102],\n",
        "    [101, 3835, 999, 102],\n",
        "]"
      ]
    },
    {
      "cell_type": "code",
      "execution_count": 9,
      "metadata": {
        "id": "379dZBJQFhgz"
      },
      "outputs": [],
      "source": [
        "import torch\n",
        "\n",
        "model_inputs = torch.tensor(encoded_sequences)"
      ]
    },
    {
      "cell_type": "code",
      "source": [
        "print(model_inputs.dtype)"
      ],
      "metadata": {
        "id": "h1Mn9z3oKUUM",
        "outputId": "7d6f1c8e-f321-4a10-c3d1-e92a78ee3e98",
        "colab": {
          "base_uri": "https://localhost:8080/"
        }
      },
      "execution_count": 13,
      "outputs": [
        {
          "output_type": "stream",
          "name": "stdout",
          "text": [
            "torch.int64\n"
          ]
        }
      ]
    },
    {
      "cell_type": "code",
      "execution_count": 14,
      "metadata": {
        "id": "hJA9qSx4Fhgz"
      },
      "outputs": [],
      "source": [
        "output = model(model_inputs)"
      ]
    }
  ],
  "metadata": {
    "colab": {
      "name": "Models (PyTorch)",
      "provenance": []
    },
    "language_info": {
      "name": "python"
    },
    "kernelspec": {
      "name": "python3",
      "display_name": "Python 3"
    },
    "widgets": {
      "application/vnd.jupyter.widget-state+json": {
        "c636f5e9964a4824b9427318f91a54e7": {
          "model_module": "@jupyter-widgets/controls",
          "model_name": "HBoxModel",
          "model_module_version": "1.5.0",
          "state": {
            "_dom_classes": [],
            "_model_module": "@jupyter-widgets/controls",
            "_model_module_version": "1.5.0",
            "_model_name": "HBoxModel",
            "_view_count": null,
            "_view_module": "@jupyter-widgets/controls",
            "_view_module_version": "1.5.0",
            "_view_name": "HBoxView",
            "box_style": "",
            "children": [
              "IPY_MODEL_7437c4697d5740ebbe5f49959ff7352f",
              "IPY_MODEL_854a47b5c4c04611b6610ee44734b007",
              "IPY_MODEL_758e071e00e046e48ca147cfa626353d"
            ],
            "layout": "IPY_MODEL_70fdb2bab4f343e2a5617cc8b60821d4"
          }
        },
        "7437c4697d5740ebbe5f49959ff7352f": {
          "model_module": "@jupyter-widgets/controls",
          "model_name": "HTMLModel",
          "model_module_version": "1.5.0",
          "state": {
            "_dom_classes": [],
            "_model_module": "@jupyter-widgets/controls",
            "_model_module_version": "1.5.0",
            "_model_name": "HTMLModel",
            "_view_count": null,
            "_view_module": "@jupyter-widgets/controls",
            "_view_module_version": "1.5.0",
            "_view_name": "HTMLView",
            "description": "",
            "description_tooltip": null,
            "layout": "IPY_MODEL_01c90fcad2fb4de18737c3b5ed996f2c",
            "placeholder": "​",
            "style": "IPY_MODEL_7bd5d4ada6854d829e5828100aef1a68",
            "value": "config.json: 100%"
          }
        },
        "854a47b5c4c04611b6610ee44734b007": {
          "model_module": "@jupyter-widgets/controls",
          "model_name": "FloatProgressModel",
          "model_module_version": "1.5.0",
          "state": {
            "_dom_classes": [],
            "_model_module": "@jupyter-widgets/controls",
            "_model_module_version": "1.5.0",
            "_model_name": "FloatProgressModel",
            "_view_count": null,
            "_view_module": "@jupyter-widgets/controls",
            "_view_module_version": "1.5.0",
            "_view_name": "ProgressView",
            "bar_style": "success",
            "description": "",
            "description_tooltip": null,
            "layout": "IPY_MODEL_14e775f22a6c459889c09b669cd566d8",
            "max": 570,
            "min": 0,
            "orientation": "horizontal",
            "style": "IPY_MODEL_a6f416033bc447209ac9f54e13057231",
            "value": 570
          }
        },
        "758e071e00e046e48ca147cfa626353d": {
          "model_module": "@jupyter-widgets/controls",
          "model_name": "HTMLModel",
          "model_module_version": "1.5.0",
          "state": {
            "_dom_classes": [],
            "_model_module": "@jupyter-widgets/controls",
            "_model_module_version": "1.5.0",
            "_model_name": "HTMLModel",
            "_view_count": null,
            "_view_module": "@jupyter-widgets/controls",
            "_view_module_version": "1.5.0",
            "_view_name": "HTMLView",
            "description": "",
            "description_tooltip": null,
            "layout": "IPY_MODEL_48707688dd5f49b0905cceb53ddacf96",
            "placeholder": "​",
            "style": "IPY_MODEL_043113684e6b41c1901bdabec4c2ca76",
            "value": " 570/570 [00:00&lt;00:00, 27.5kB/s]"
          }
        },
        "70fdb2bab4f343e2a5617cc8b60821d4": {
          "model_module": "@jupyter-widgets/base",
          "model_name": "LayoutModel",
          "model_module_version": "1.2.0",
          "state": {
            "_model_module": "@jupyter-widgets/base",
            "_model_module_version": "1.2.0",
            "_model_name": "LayoutModel",
            "_view_count": null,
            "_view_module": "@jupyter-widgets/base",
            "_view_module_version": "1.2.0",
            "_view_name": "LayoutView",
            "align_content": null,
            "align_items": null,
            "align_self": null,
            "border": null,
            "bottom": null,
            "display": null,
            "flex": null,
            "flex_flow": null,
            "grid_area": null,
            "grid_auto_columns": null,
            "grid_auto_flow": null,
            "grid_auto_rows": null,
            "grid_column": null,
            "grid_gap": null,
            "grid_row": null,
            "grid_template_areas": null,
            "grid_template_columns": null,
            "grid_template_rows": null,
            "height": null,
            "justify_content": null,
            "justify_items": null,
            "left": null,
            "margin": null,
            "max_height": null,
            "max_width": null,
            "min_height": null,
            "min_width": null,
            "object_fit": null,
            "object_position": null,
            "order": null,
            "overflow": null,
            "overflow_x": null,
            "overflow_y": null,
            "padding": null,
            "right": null,
            "top": null,
            "visibility": null,
            "width": null
          }
        },
        "01c90fcad2fb4de18737c3b5ed996f2c": {
          "model_module": "@jupyter-widgets/base",
          "model_name": "LayoutModel",
          "model_module_version": "1.2.0",
          "state": {
            "_model_module": "@jupyter-widgets/base",
            "_model_module_version": "1.2.0",
            "_model_name": "LayoutModel",
            "_view_count": null,
            "_view_module": "@jupyter-widgets/base",
            "_view_module_version": "1.2.0",
            "_view_name": "LayoutView",
            "align_content": null,
            "align_items": null,
            "align_self": null,
            "border": null,
            "bottom": null,
            "display": null,
            "flex": null,
            "flex_flow": null,
            "grid_area": null,
            "grid_auto_columns": null,
            "grid_auto_flow": null,
            "grid_auto_rows": null,
            "grid_column": null,
            "grid_gap": null,
            "grid_row": null,
            "grid_template_areas": null,
            "grid_template_columns": null,
            "grid_template_rows": null,
            "height": null,
            "justify_content": null,
            "justify_items": null,
            "left": null,
            "margin": null,
            "max_height": null,
            "max_width": null,
            "min_height": null,
            "min_width": null,
            "object_fit": null,
            "object_position": null,
            "order": null,
            "overflow": null,
            "overflow_x": null,
            "overflow_y": null,
            "padding": null,
            "right": null,
            "top": null,
            "visibility": null,
            "width": null
          }
        },
        "7bd5d4ada6854d829e5828100aef1a68": {
          "model_module": "@jupyter-widgets/controls",
          "model_name": "DescriptionStyleModel",
          "model_module_version": "1.5.0",
          "state": {
            "_model_module": "@jupyter-widgets/controls",
            "_model_module_version": "1.5.0",
            "_model_name": "DescriptionStyleModel",
            "_view_count": null,
            "_view_module": "@jupyter-widgets/base",
            "_view_module_version": "1.2.0",
            "_view_name": "StyleView",
            "description_width": ""
          }
        },
        "14e775f22a6c459889c09b669cd566d8": {
          "model_module": "@jupyter-widgets/base",
          "model_name": "LayoutModel",
          "model_module_version": "1.2.0",
          "state": {
            "_model_module": "@jupyter-widgets/base",
            "_model_module_version": "1.2.0",
            "_model_name": "LayoutModel",
            "_view_count": null,
            "_view_module": "@jupyter-widgets/base",
            "_view_module_version": "1.2.0",
            "_view_name": "LayoutView",
            "align_content": null,
            "align_items": null,
            "align_self": null,
            "border": null,
            "bottom": null,
            "display": null,
            "flex": null,
            "flex_flow": null,
            "grid_area": null,
            "grid_auto_columns": null,
            "grid_auto_flow": null,
            "grid_auto_rows": null,
            "grid_column": null,
            "grid_gap": null,
            "grid_row": null,
            "grid_template_areas": null,
            "grid_template_columns": null,
            "grid_template_rows": null,
            "height": null,
            "justify_content": null,
            "justify_items": null,
            "left": null,
            "margin": null,
            "max_height": null,
            "max_width": null,
            "min_height": null,
            "min_width": null,
            "object_fit": null,
            "object_position": null,
            "order": null,
            "overflow": null,
            "overflow_x": null,
            "overflow_y": null,
            "padding": null,
            "right": null,
            "top": null,
            "visibility": null,
            "width": null
          }
        },
        "a6f416033bc447209ac9f54e13057231": {
          "model_module": "@jupyter-widgets/controls",
          "model_name": "ProgressStyleModel",
          "model_module_version": "1.5.0",
          "state": {
            "_model_module": "@jupyter-widgets/controls",
            "_model_module_version": "1.5.0",
            "_model_name": "ProgressStyleModel",
            "_view_count": null,
            "_view_module": "@jupyter-widgets/base",
            "_view_module_version": "1.2.0",
            "_view_name": "StyleView",
            "bar_color": null,
            "description_width": ""
          }
        },
        "48707688dd5f49b0905cceb53ddacf96": {
          "model_module": "@jupyter-widgets/base",
          "model_name": "LayoutModel",
          "model_module_version": "1.2.0",
          "state": {
            "_model_module": "@jupyter-widgets/base",
            "_model_module_version": "1.2.0",
            "_model_name": "LayoutModel",
            "_view_count": null,
            "_view_module": "@jupyter-widgets/base",
            "_view_module_version": "1.2.0",
            "_view_name": "LayoutView",
            "align_content": null,
            "align_items": null,
            "align_self": null,
            "border": null,
            "bottom": null,
            "display": null,
            "flex": null,
            "flex_flow": null,
            "grid_area": null,
            "grid_auto_columns": null,
            "grid_auto_flow": null,
            "grid_auto_rows": null,
            "grid_column": null,
            "grid_gap": null,
            "grid_row": null,
            "grid_template_areas": null,
            "grid_template_columns": null,
            "grid_template_rows": null,
            "height": null,
            "justify_content": null,
            "justify_items": null,
            "left": null,
            "margin": null,
            "max_height": null,
            "max_width": null,
            "min_height": null,
            "min_width": null,
            "object_fit": null,
            "object_position": null,
            "order": null,
            "overflow": null,
            "overflow_x": null,
            "overflow_y": null,
            "padding": null,
            "right": null,
            "top": null,
            "visibility": null,
            "width": null
          }
        },
        "043113684e6b41c1901bdabec4c2ca76": {
          "model_module": "@jupyter-widgets/controls",
          "model_name": "DescriptionStyleModel",
          "model_module_version": "1.5.0",
          "state": {
            "_model_module": "@jupyter-widgets/controls",
            "_model_module_version": "1.5.0",
            "_model_name": "DescriptionStyleModel",
            "_view_count": null,
            "_view_module": "@jupyter-widgets/base",
            "_view_module_version": "1.2.0",
            "_view_name": "StyleView",
            "description_width": ""
          }
        },
        "f8370932fb9e4554bfc7ef98eba6ca0e": {
          "model_module": "@jupyter-widgets/controls",
          "model_name": "HBoxModel",
          "model_module_version": "1.5.0",
          "state": {
            "_dom_classes": [],
            "_model_module": "@jupyter-widgets/controls",
            "_model_module_version": "1.5.0",
            "_model_name": "HBoxModel",
            "_view_count": null,
            "_view_module": "@jupyter-widgets/controls",
            "_view_module_version": "1.5.0",
            "_view_name": "HBoxView",
            "box_style": "",
            "children": [
              "IPY_MODEL_94351772c3774902865f9cdcb5e78167",
              "IPY_MODEL_5e365a0a50f141e39fcc09e749470b9c",
              "IPY_MODEL_dffea41cc9b8447b8cdedfaa9c0b0b8a"
            ],
            "layout": "IPY_MODEL_ea4be7133cfe4ca3989d1b90f610abc3"
          }
        },
        "94351772c3774902865f9cdcb5e78167": {
          "model_module": "@jupyter-widgets/controls",
          "model_name": "HTMLModel",
          "model_module_version": "1.5.0",
          "state": {
            "_dom_classes": [],
            "_model_module": "@jupyter-widgets/controls",
            "_model_module_version": "1.5.0",
            "_model_name": "HTMLModel",
            "_view_count": null,
            "_view_module": "@jupyter-widgets/controls",
            "_view_module_version": "1.5.0",
            "_view_name": "HTMLView",
            "description": "",
            "description_tooltip": null,
            "layout": "IPY_MODEL_843aa32487904071ac2f5e8aefa15f86",
            "placeholder": "​",
            "style": "IPY_MODEL_c92e932a2864488182332141bebe2de8",
            "value": "model.safetensors: 100%"
          }
        },
        "5e365a0a50f141e39fcc09e749470b9c": {
          "model_module": "@jupyter-widgets/controls",
          "model_name": "FloatProgressModel",
          "model_module_version": "1.5.0",
          "state": {
            "_dom_classes": [],
            "_model_module": "@jupyter-widgets/controls",
            "_model_module_version": "1.5.0",
            "_model_name": "FloatProgressModel",
            "_view_count": null,
            "_view_module": "@jupyter-widgets/controls",
            "_view_module_version": "1.5.0",
            "_view_name": "ProgressView",
            "bar_style": "success",
            "description": "",
            "description_tooltip": null,
            "layout": "IPY_MODEL_86c71cbddd8f4c72a5c109c0779a1410",
            "max": 435755784,
            "min": 0,
            "orientation": "horizontal",
            "style": "IPY_MODEL_435add597fd248638a635714d3eb15e2",
            "value": 435755784
          }
        },
        "dffea41cc9b8447b8cdedfaa9c0b0b8a": {
          "model_module": "@jupyter-widgets/controls",
          "model_name": "HTMLModel",
          "model_module_version": "1.5.0",
          "state": {
            "_dom_classes": [],
            "_model_module": "@jupyter-widgets/controls",
            "_model_module_version": "1.5.0",
            "_model_name": "HTMLModel",
            "_view_count": null,
            "_view_module": "@jupyter-widgets/controls",
            "_view_module_version": "1.5.0",
            "_view_name": "HTMLView",
            "description": "",
            "description_tooltip": null,
            "layout": "IPY_MODEL_c6b4b0b50d4540fc8e610919fea825ef",
            "placeholder": "​",
            "style": "IPY_MODEL_1a51b1fd411d49ba927494cbb9632251",
            "value": " 436M/436M [00:05&lt;00:00, 70.4MB/s]"
          }
        },
        "ea4be7133cfe4ca3989d1b90f610abc3": {
          "model_module": "@jupyter-widgets/base",
          "model_name": "LayoutModel",
          "model_module_version": "1.2.0",
          "state": {
            "_model_module": "@jupyter-widgets/base",
            "_model_module_version": "1.2.0",
            "_model_name": "LayoutModel",
            "_view_count": null,
            "_view_module": "@jupyter-widgets/base",
            "_view_module_version": "1.2.0",
            "_view_name": "LayoutView",
            "align_content": null,
            "align_items": null,
            "align_self": null,
            "border": null,
            "bottom": null,
            "display": null,
            "flex": null,
            "flex_flow": null,
            "grid_area": null,
            "grid_auto_columns": null,
            "grid_auto_flow": null,
            "grid_auto_rows": null,
            "grid_column": null,
            "grid_gap": null,
            "grid_row": null,
            "grid_template_areas": null,
            "grid_template_columns": null,
            "grid_template_rows": null,
            "height": null,
            "justify_content": null,
            "justify_items": null,
            "left": null,
            "margin": null,
            "max_height": null,
            "max_width": null,
            "min_height": null,
            "min_width": null,
            "object_fit": null,
            "object_position": null,
            "order": null,
            "overflow": null,
            "overflow_x": null,
            "overflow_y": null,
            "padding": null,
            "right": null,
            "top": null,
            "visibility": null,
            "width": null
          }
        },
        "843aa32487904071ac2f5e8aefa15f86": {
          "model_module": "@jupyter-widgets/base",
          "model_name": "LayoutModel",
          "model_module_version": "1.2.0",
          "state": {
            "_model_module": "@jupyter-widgets/base",
            "_model_module_version": "1.2.0",
            "_model_name": "LayoutModel",
            "_view_count": null,
            "_view_module": "@jupyter-widgets/base",
            "_view_module_version": "1.2.0",
            "_view_name": "LayoutView",
            "align_content": null,
            "align_items": null,
            "align_self": null,
            "border": null,
            "bottom": null,
            "display": null,
            "flex": null,
            "flex_flow": null,
            "grid_area": null,
            "grid_auto_columns": null,
            "grid_auto_flow": null,
            "grid_auto_rows": null,
            "grid_column": null,
            "grid_gap": null,
            "grid_row": null,
            "grid_template_areas": null,
            "grid_template_columns": null,
            "grid_template_rows": null,
            "height": null,
            "justify_content": null,
            "justify_items": null,
            "left": null,
            "margin": null,
            "max_height": null,
            "max_width": null,
            "min_height": null,
            "min_width": null,
            "object_fit": null,
            "object_position": null,
            "order": null,
            "overflow": null,
            "overflow_x": null,
            "overflow_y": null,
            "padding": null,
            "right": null,
            "top": null,
            "visibility": null,
            "width": null
          }
        },
        "c92e932a2864488182332141bebe2de8": {
          "model_module": "@jupyter-widgets/controls",
          "model_name": "DescriptionStyleModel",
          "model_module_version": "1.5.0",
          "state": {
            "_model_module": "@jupyter-widgets/controls",
            "_model_module_version": "1.5.0",
            "_model_name": "DescriptionStyleModel",
            "_view_count": null,
            "_view_module": "@jupyter-widgets/base",
            "_view_module_version": "1.2.0",
            "_view_name": "StyleView",
            "description_width": ""
          }
        },
        "86c71cbddd8f4c72a5c109c0779a1410": {
          "model_module": "@jupyter-widgets/base",
          "model_name": "LayoutModel",
          "model_module_version": "1.2.0",
          "state": {
            "_model_module": "@jupyter-widgets/base",
            "_model_module_version": "1.2.0",
            "_model_name": "LayoutModel",
            "_view_count": null,
            "_view_module": "@jupyter-widgets/base",
            "_view_module_version": "1.2.0",
            "_view_name": "LayoutView",
            "align_content": null,
            "align_items": null,
            "align_self": null,
            "border": null,
            "bottom": null,
            "display": null,
            "flex": null,
            "flex_flow": null,
            "grid_area": null,
            "grid_auto_columns": null,
            "grid_auto_flow": null,
            "grid_auto_rows": null,
            "grid_column": null,
            "grid_gap": null,
            "grid_row": null,
            "grid_template_areas": null,
            "grid_template_columns": null,
            "grid_template_rows": null,
            "height": null,
            "justify_content": null,
            "justify_items": null,
            "left": null,
            "margin": null,
            "max_height": null,
            "max_width": null,
            "min_height": null,
            "min_width": null,
            "object_fit": null,
            "object_position": null,
            "order": null,
            "overflow": null,
            "overflow_x": null,
            "overflow_y": null,
            "padding": null,
            "right": null,
            "top": null,
            "visibility": null,
            "width": null
          }
        },
        "435add597fd248638a635714d3eb15e2": {
          "model_module": "@jupyter-widgets/controls",
          "model_name": "ProgressStyleModel",
          "model_module_version": "1.5.0",
          "state": {
            "_model_module": "@jupyter-widgets/controls",
            "_model_module_version": "1.5.0",
            "_model_name": "ProgressStyleModel",
            "_view_count": null,
            "_view_module": "@jupyter-widgets/base",
            "_view_module_version": "1.2.0",
            "_view_name": "StyleView",
            "bar_color": null,
            "description_width": ""
          }
        },
        "c6b4b0b50d4540fc8e610919fea825ef": {
          "model_module": "@jupyter-widgets/base",
          "model_name": "LayoutModel",
          "model_module_version": "1.2.0",
          "state": {
            "_model_module": "@jupyter-widgets/base",
            "_model_module_version": "1.2.0",
            "_model_name": "LayoutModel",
            "_view_count": null,
            "_view_module": "@jupyter-widgets/base",
            "_view_module_version": "1.2.0",
            "_view_name": "LayoutView",
            "align_content": null,
            "align_items": null,
            "align_self": null,
            "border": null,
            "bottom": null,
            "display": null,
            "flex": null,
            "flex_flow": null,
            "grid_area": null,
            "grid_auto_columns": null,
            "grid_auto_flow": null,
            "grid_auto_rows": null,
            "grid_column": null,
            "grid_gap": null,
            "grid_row": null,
            "grid_template_areas": null,
            "grid_template_columns": null,
            "grid_template_rows": null,
            "height": null,
            "justify_content": null,
            "justify_items": null,
            "left": null,
            "margin": null,
            "max_height": null,
            "max_width": null,
            "min_height": null,
            "min_width": null,
            "object_fit": null,
            "object_position": null,
            "order": null,
            "overflow": null,
            "overflow_x": null,
            "overflow_y": null,
            "padding": null,
            "right": null,
            "top": null,
            "visibility": null,
            "width": null
          }
        },
        "1a51b1fd411d49ba927494cbb9632251": {
          "model_module": "@jupyter-widgets/controls",
          "model_name": "DescriptionStyleModel",
          "model_module_version": "1.5.0",
          "state": {
            "_model_module": "@jupyter-widgets/controls",
            "_model_module_version": "1.5.0",
            "_model_name": "DescriptionStyleModel",
            "_view_count": null,
            "_view_module": "@jupyter-widgets/base",
            "_view_module_version": "1.2.0",
            "_view_name": "StyleView",
            "description_width": ""
          }
        }
      }
    }
  },
  "nbformat": 4,
  "nbformat_minor": 0
}